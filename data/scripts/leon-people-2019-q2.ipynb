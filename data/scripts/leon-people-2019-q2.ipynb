{
 "cells": [
  {
   "cell_type": "code",
   "execution_count": 1,
   "metadata": {},
   "outputs": [],
   "source": [
    "import pandas as pd\n",
    "import json\n",
    "import numpy as np"
   ]
  },
  {
   "attachments": {},
   "cell_type": "markdown",
   "metadata": {},
   "source": [
    "# Import Data"
   ]
  },
  {
   "cell_type": "code",
   "execution_count": null,
   "metadata": {},
   "outputs": [],
   "source": [
    "# Import the leon people 2019 Q2 csv with pandas\n",
    "df = pd.read_csv('../quarterly-tranches/leon-people-2019-q2.csv')\n",
    "df.head(3)"
   ]
  },
  {
   "attachments": {},
   "cell_type": "markdown",
   "metadata": {},
   "source": [
    "\n",
    "What do we want our first map to look like\n",
    "\n",
    "    What data do we want to display?\n",
    "        Accidents\n",
    "        Injury severity\n",
    "        Pedestrians & Cyclists\n",
    "        Location\n",
    "\n",
    "What do we want to keep\n",
    "\n",
    "* report_number\n",
    "* crash_year\n",
    "* role\n",
    "* person_number\n",
    "* injury_severity\n",
    "* vehicle_number\n",
    "* crash_date_time\n",
    "* latitude\n",
    "* longitude\n",
    "* non_motorist_description_code"
   ]
  },
  {
   "cell_type": "code",
   "execution_count": null,
   "metadata": {},
   "outputs": [],
   "source": [
    "# Filter the dataframe to only include the columns we want\n",
    "crashes = df[[\"report_number\", \"crash_year\", \"role\", \"person_number\", \"injury_severity\", \"vehicle_number\",  \"non_motorist_description_code\", \"crash_date_time\", \"latitude\", \"longitude\" ]]\n",
    "crashes.head(3)"
   ]
  },
  {
   "cell_type": "code",
   "execution_count": null,
   "metadata": {},
   "outputs": [],
   "source": [
    "# sort by report number\n",
    "crashes_sorted = crashes.sort_values(by=['report_number']).reset_index(drop=True)\n",
    "crashes_sorted.head(3)"
   ]
  },
  {
   "attachments": {},
   "cell_type": "markdown",
   "metadata": {},
   "source": [
    "Export to CSV"
   ]
  },
  {
   "cell_type": "code",
   "execution_count": 5,
   "metadata": {},
   "outputs": [],
   "source": [
    "# export to csv\n",
    "crashes_sorted.to_csv('../quarterly-tranches/processed/leon-people-2019-q2.csv', index=False)"
   ]
  },
  {
   "cell_type": "code",
   "execution_count": 6,
   "metadata": {},
   "outputs": [],
   "source": [
    "def create_geojson_features(grouped_data):\n",
    "    features = []\n",
    "    crash_type_map = {\n",
    "        None: \"MOTOR VEHICLE\",\n",
    "        1: \"PEDESTRIAN\",\n",
    "        3: \"BICYCLIST\",\n",
    "    }\n",
    "\n",
    "    for report_number, rows in grouped_data.items():\n",
    "        # Extract latitude, longitude, and shared properties\n",
    "        lat = rows[0]['latitude']\n",
    "        long = rows[0]['longitude']\n",
    "\n",
    "        shared_properties = {\n",
    "            'crash_year': rows[0]['crash_year'],\n",
    "            'crash_date_time': rows[0]['crash_date_time'],\n",
    "        }\n",
    "        \n",
    "        # Extract details and additional properties\n",
    "        is_fatal = any(row.get('injury_severity') == 5 for row in rows)\n",
    "        crash_types_set = set(\n",
    "            crash_type_map.get(row.get('non_motorist_description_code'), \"MOTOR VEHICLE\")\n",
    "            for row in rows\n",
    "        )\n",
    "        crash_types = list(crash_types_set)\n",
    "\n",
    "\n",
    "        # Determine crash_type\n",
    "        if \"PEDESTRIAN\" in crash_types:\n",
    "            crash_type = \"Pedestrian\"\n",
    "        elif \"BICYCLIST\" in crash_types:\n",
    "            crash_type = \"Bicyclist\"\n",
    "        else:\n",
    "            crash_type = \"Motor Vehicle\"\n",
    "\n",
    "        # Calculate Vehicles Involved and People Involved\n",
    "        vehicles_involved = max(\n",
    "            (\n",
    "                int(row.get('vehicle_number'))\n",
    "                for row in rows\n",
    "                if row.get('vehicle_number') is not None and not (\n",
    "                    isinstance(row.get('vehicle_number'), float) and np.isnan(row.get('vehicle_number'))\n",
    "                )\n",
    "            ),\n",
    "            default=0\n",
    "        )\n",
    "        people_involved = max(\n",
    "            (row.get('person_number') for row in rows if row.get('person_number') is not None), \n",
    "            default=0\n",
    "        )\n",
    "        \n",
    "        # Extract details\n",
    "        details = [\n",
    "            {\n",
    "                'role': row['role'],\n",
    "                'person_number': row['person_number'],\n",
    "                'injury_severity': None if isinstance(row.get('injury_severity'), float) and np.isnan(row.get('injury_severity')) else row.get('injury_severity'),\n",
    "                'vehicle_number': None if isinstance(row.get('vehicle_number'), float) and np.isnan(row.get('vehicle_number')) else row.get('vehicle_number'),\n",
    "                'non_motorist_description_code': None if isinstance(row.get('non_motorist_description_code'), float) and np.isnan(row.get('non_motorist_description_code')) else row.get('non_motorist_description_code')\n",
    "            }\n",
    "            for row in rows\n",
    "        ]\n",
    "        \n",
    "        # Create a GeoJSON feature\n",
    "        feature = {\n",
    "            \"type\": \"Feature\",\n",
    "            \"id\": int(report_number),\n",
    "            \"geometry\": {\n",
    "                \"type\": \"Point\",\n",
    "                \"coordinates\": [long, lat]\n",
    "            },\n",
    "            \"properties\": {\n",
    "                **shared_properties,\n",
    "                \"details\": details,\n",
    "                \"report_number\": int(report_number),\n",
    "                \"is_fatal\": is_fatal,\n",
    "                \"crash_types\": crash_types,\n",
    "                \"crash_type\": crash_type,\n",
    "                \"vehicles_involved\": vehicles_involved,\n",
    "                \"people_involved\": people_involved,\n",
    "            }\n",
    "        }\n",
    "        features.append(feature)\n",
    "    return features\n",
    "\n",
    "# Extract unique rows by report_number and convert to GeoJSON format\n"
   ]
  },
  {
   "cell_type": "code",
   "execution_count": null,
   "metadata": {},
   "outputs": [],
   "source": [
    "# Filter out rows with missing latitude or longitude\n",
    "filtered_data = crashes_sorted.dropna(subset=['latitude', 'longitude'])\n",
    "\n",
    "# Regroup data by 'report_number' after filtering\n",
    "filtered_grouped_data = (\n",
    "    filtered_data.groupby('report_number')\n",
    "    .apply(lambda x: x.to_dict(orient='records'))\n",
    "    .to_dict()\n",
    ")\n",
    "\n",
    "# Convert the grouped data to JSON\n",
    "grouped_json = json.dumps(filtered_grouped_data, indent=4)\n",
    "\n",
    "\n",
    "geojson_features = create_geojson_features(json.loads(grouped_json))\n",
    "geojson_data = {\n",
    "    \"type\": \"FeatureCollection\",\n",
    "    \"features\": geojson_features\n",
    "}\n"
   ]
  },
  {
   "cell_type": "markdown",
   "metadata": {},
   "source": [
    "Export to CSV"
   ]
  },
  {
   "cell_type": "code",
   "execution_count": 8,
   "metadata": {},
   "outputs": [],
   "source": [
    "# export to csv\n",
    "\n",
    "# Define the file path and name for the GeoJSON file\n",
    "geojson_file_path = '../quarterly-tranches/processed/leon-people-2019-q2.geojson'\n",
    "\n",
    "# Write the GeoJSON data to the file\n",
    "with open(geojson_file_path, \"w\") as geojson_file:\n",
    "    json.dump(geojson_data, geojson_file, indent=4)"
   ]
  },
  {
   "cell_type": "code",
   "execution_count": null,
   "metadata": {},
   "outputs": [],
   "source": []
  }
 ],
 "metadata": {
  "kernelspec": {
   "display_name": "experimental",
   "language": "python",
   "name": "python3"
  },
  "language_info": {
   "codemirror_mode": {
    "name": "ipython",
    "version": 3
   },
   "file_extension": ".py",
   "mimetype": "text/x-python",
   "name": "python",
   "nbconvert_exporter": "python",
   "pygments_lexer": "ipython3",
   "version": "3.10.14"
  },
  "orig_nbformat": 4
 },
 "nbformat": 4,
 "nbformat_minor": 2
}
