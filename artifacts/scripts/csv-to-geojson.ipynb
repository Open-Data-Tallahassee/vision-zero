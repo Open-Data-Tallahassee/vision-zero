{
 "cells": [
  {
   "cell_type": "code",
   "execution_count": 2,
   "id": "0c67ac2b",
   "metadata": {},
   "outputs": [],
   "source": [
    "# import libraries\n",
    "import pandas as pd # for data manipulation\n",
    "import gspread # to connect with google sheets\n",
    "from df2gspread import df2gspread as d2g # to interact with google sheets\n",
    "import geopandas as gpd # for geospatial data manipulation"
   ]
  },
  {
   "cell_type": "markdown",
   "id": "84dc3f55",
   "metadata": {},
   "source": [
    "### Import data"
   ]
  },
  {
   "cell_type": "code",
   "execution_count": 6,
   "id": "be315085",
   "metadata": {},
   "outputs": [],
   "source": [
    "# create dataframe of crashes in leon county\n",
    "df = pd.read_csv(\"../crash-data/quarterly-tranches/leon-events-2019-q2.csv\")"
   ]
  },
  {
   "cell_type": "markdown",
   "id": "c5cbb0c5",
   "metadata": {},
   "source": [
    "### Convert data"
   ]
  },
  {
   "cell_type": "code",
   "execution_count": 7,
   "id": "4f6a93a9",
   "metadata": {},
   "outputs": [],
   "source": [
    "# convert to geodataframe\n",
    "gdf = gpd.GeoDataFrame(df, geometry=gpd.points_from_xy(df.longitude, df.latitude))"
   ]
  },
  {
   "cell_type": "markdown",
   "id": "676f4175",
   "metadata": {},
   "source": [
    "### Export data"
   ]
  },
  {
   "cell_type": "code",
   "execution_count": 8,
   "id": "9dd7653d",
   "metadata": {},
   "outputs": [],
   "source": [
    "# export to geojson\n",
    "gdf.to_file(\"../crash-data/quarterly-tranches/leon-events-2019-q2.geojson\", driver='GeoJSON')"
   ]
  },
  {
   "cell_type": "code",
   "execution_count": null,
   "id": "314f3764",
   "metadata": {},
   "outputs": [],
   "source": []
  }
 ],
 "metadata": {
  "kernelspec": {
   "display_name": "Python 3 (ipykernel)",
   "language": "python",
   "name": "python3"
  },
  "language_info": {
   "codemirror_mode": {
    "name": "ipython",
    "version": 3
   },
   "file_extension": ".py",
   "mimetype": "text/x-python",
   "name": "python",
   "nbconvert_exporter": "python",
   "pygments_lexer": "ipython3",
   "version": "3.8.12"
  }
 },
 "nbformat": 4,
 "nbformat_minor": 5
}
