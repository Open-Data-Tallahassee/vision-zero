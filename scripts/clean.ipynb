{
 "cells": [
  {
   "cell_type": "code",
   "execution_count": 1,
   "metadata": {},
   "outputs": [
    {
     "name": "stderr",
     "output_type": "stream",
     "text": [
      "/Users/shelbygreen/opt/anaconda3/lib/python3.8/site-packages/IPython/core/interactiveshell.py:3165: DtypeWarning: Columns (0,20,23,29,30,57,59,61,63,64) have mixed types.Specify dtype option on import or set low_memory=False.\n",
      "  has_raised = await self.run_ast_nodes(code_ast.body, cell_name,\n"
     ]
    }
   ],
   "source": [
    "\"\"\"\n",
    "goal: create clean dataset for 2018 - 2021 crashes -- \"events\" and \"drivers\"\n",
    "steps:\n",
    "1. import dataset\n",
    "2. remove crashes that occured before 2018\n",
    "3. remove crashes missing latitude and/or longitude (will be qa/qc'd)\n",
    "4. remove crashes with incorrect latitude and/or longitude\n",
    "5. export clean dataset as a geojson file and csv\n",
    "\"\"\""
   ]
  },
  {
   "cell_type": "markdown",
   "metadata": {},
   "source": [
    "# Events Data"
   ]
  },
  {
   "cell_type": "markdown",
   "metadata": {},
   "source": [
    "## Import Data"
   ]
  },
  {
   "cell_type": "code",
   "execution_count": 5,
   "metadata": {},
   "outputs": [
    {
     "name": "stderr",
     "output_type": "stream",
     "text": [
      "/Users/shelbygreen/opt/anaconda3/lib/python3.8/site-packages/IPython/core/interactiveshell.py:3165: DtypeWarning: Columns (29,56,57,58,59,63) have mixed types.Specify dtype option on import or set low_memory=False.\n",
      "  has_raised = await self.run_ast_nodes(code_ast.body, cell_name,\n"
     ]
    }
   ],
   "source": [
    "# import libraries\n",
    "import pandas as pd # for data manipulation\n",
    "import gspread # to connect with google sheets\n",
    "from df2gspread import df2gspread as d2g # to interact with google sheets\n",
    "import geopandas as gpd # for geospatial data manipulation\n",
    "import os # for file navigation\n",
    "from datetime import date # for age calculations\n",
    "\n",
    "# create dataframe of crashes in leon county\n",
    "df = pd.read_csv(\"../data/leon-events.csv\")[['report_number', 'crash_year', 'crash_date_time',\n",
    "                                       'first_harmful_event', 'total_number_of_vehicles', 'total_number_of_persons',\n",
    "                                       'latitude', 'longitude', 'on_street_road_highway', 'street_address_number',\n",
    "                                       'from_intersection_of']]"
   ]
  },
  {
   "cell_type": "code",
   "execution_count": 2,
   "metadata": {},
   "outputs": [
    {
     "name": "stderr",
     "output_type": "stream",
     "text": [
      "<ipython-input-2-eabd164243c5>:4: YAMLLoadWarning: calling yaml.load() without Loader=... is deprecated, as the default Loader is unsafe. Please read https://msg.pyyaml.org/load for full details.\n",
      "  parsed_yaml_file = yaml.load(yaml_file)\n"
     ]
    }
   ],
   "source": [
    "# read YAML file\n",
    "import yaml\n",
    "yaml_file = open(\"../keys.yaml\")\n",
    "parsed_yaml_file = yaml.load(yaml_file)"
   ]
  },
  {
   "cell_type": "markdown",
   "metadata": {},
   "source": [
    "## Filter Data"
   ]
  },
  {
   "cell_type": "code",
   "execution_count": 10,
   "metadata": {},
   "outputs": [],
   "source": [
    "# select crashes that occured on 1/1/2018 or later\n",
    "df2018 = df.query(\" crash_year >= 2018\").reset_index(drop=True)"
   ]
  },
  {
   "cell_type": "code",
   "execution_count": 11,
   "metadata": {},
   "outputs": [],
   "source": [
    "# remove the rows with missing lat/lon data -- these will be addressed in qa/qc\n",
    "df2018missing = df2018[df2018['latitude'].isna() | df2018['longitude'].isna()]"
   ]
  },
  {
   "cell_type": "code",
   "execution_count": 8,
   "metadata": {},
   "outputs": [
    {
     "data": {
      "text/plain": [
       "<Worksheet 'missing-2018' id:557274010>"
      ]
     },
     "execution_count": 8,
     "metadata": {},
     "output_type": "execute_result"
    }
   ],
   "source": [
    "# export to Google Sheets for QA/QC\n",
    "from oauth2client.service_account import ServiceAccountCredentials\n",
    "\n",
    "# access and store credentials\n",
    "scope = ['https://spreadsheets.google.com/feeds',\n",
    "         'https://www.googleapis.com/auth/drive']\n",
    "credentials = ServiceAccountCredentials.from_json_keyfile_name('./gsCredentials.json')\n",
    "gc = gspread.authorize(credentials)\n",
    "\n",
    "# connect to the Google Sheet\n",
    "spreadsheet_key = parsed_yaml_file[\"spreadsheet_key\"]\n",
    "wks_name = 'missing-2018'\n",
    "\n",
    "# send data to the Google Sheet\n",
    "d2g.upload(df2018missing, spreadsheet_key, wks_name, credentials=credentials, row_names=True)"
   ]
  },
  {
   "cell_type": "markdown",
   "metadata": {},
   "source": [
    "## Clean Data"
   ]
  },
  {
   "cell_type": "code",
   "execution_count": 12,
   "metadata": {},
   "outputs": [],
   "source": [
    "# create clean dataset\n",
    "df2018clean = df2018[~df2018['latitude'].isna() & ~df2018['longitude'].isna() & ~df2018['report_number'].isin(['87845295', '24211781', '24339312'])]"
   ]
  },
  {
   "cell_type": "markdown",
   "metadata": {},
   "source": [
    "## Export Data"
   ]
  },
  {
   "cell_type": "code",
   "execution_count": 10,
   "metadata": {},
   "outputs": [],
   "source": [
    "# convert to geodataframe\n",
    "gdf2018clean = gpd.GeoDataFrame(df2018clean, geometry=gpd.points_from_xy(df2018clean.longitude, df2018clean.latitude))"
   ]
  },
  {
   "cell_type": "code",
   "execution_count": 11,
   "metadata": {},
   "outputs": [],
   "source": [
    "# export to geojson\n",
    "gdf2018clean.to_file(\"./crash-data/clean/all-2018to2021.geojson\", driver='GeoJSON')"
   ]
  },
  {
   "cell_type": "code",
   "execution_count": 12,
   "metadata": {},
   "outputs": [],
   "source": [
    "# export to csv\n",
    "df2018clean.to_csv(\"./crash-data/clean/all-2018to2021.csv\")"
   ]
  },
  {
   "cell_type": "markdown",
   "metadata": {},
   "source": [
    "## Misc"
   ]
  },
  {
   "cell_type": "code",
   "execution_count": 15,
   "metadata": {},
   "outputs": [],
   "source": [
    "# df2018.groupby('first_harmful_event').count().sort_values(ascending=False, by=\"report_number\")\n",
    "# df2018.groupby('crash_year').count().sort_values(ascending=False, by=\"report_number\")\n",
    "\n",
    "# first harmful event\n",
    "# 14 - motor vehicle in transport (another car)\n",
    "# 15 - parked motor vehicle\n",
    "# 39 - \"Other Fixed Object (wall, building, tunnel, etc.)\"\n",
    "# 18 - Other Non-Fixed Object\n",
    "# 32 - Tree (standing)\n",
    "# 10 - Pedestrian\n",
    "# 36 - \"Other Post, Pole or Support\"\n",
    "# 11 - pedalcycle"
   ]
  },
  {
   "cell_type": "code",
   "execution_count": 52,
   "metadata": {},
   "outputs": [
    {
     "data": {
      "text/html": [
       "<div>\n",
       "<style scoped>\n",
       "    .dataframe tbody tr th:only-of-type {\n",
       "        vertical-align: middle;\n",
       "    }\n",
       "\n",
       "    .dataframe tbody tr th {\n",
       "        vertical-align: top;\n",
       "    }\n",
       "\n",
       "    .dataframe thead th {\n",
       "        text-align: right;\n",
       "    }\n",
       "</style>\n",
       "<table border=\"1\" class=\"dataframe\">\n",
       "  <thead>\n",
       "    <tr style=\"text-align: right;\">\n",
       "      <th></th>\n",
       "      <th>report_number</th>\n",
       "      <th>crash_year</th>\n",
       "      <th>crash_date_time</th>\n",
       "      <th>first_harmful_event</th>\n",
       "      <th>total_number_of_vehicles</th>\n",
       "      <th>total_number_of_persons</th>\n",
       "      <th>latitude</th>\n",
       "      <th>longitude</th>\n",
       "      <th>on_street_road_highway</th>\n",
       "      <th>street_address_number</th>\n",
       "      <th>from_intersection_of</th>\n",
       "    </tr>\n",
       "  </thead>\n",
       "  <tbody>\n",
       "    <tr>\n",
       "      <th>309</th>\n",
       "      <td>85579687</td>\n",
       "      <td>2018</td>\n",
       "      <td>2018-01-29 18:54</td>\n",
       "      <td>11.0</td>\n",
       "      <td>1</td>\n",
       "      <td>2</td>\n",
       "      <td>30.440920</td>\n",
       "      <td>-84.373347</td>\n",
       "      <td>AENON LANE</td>\n",
       "      <td>NaN</td>\n",
       "      <td>COUNTY ROAD 1581</td>\n",
       "    </tr>\n",
       "    <tr>\n",
       "      <th>1256</th>\n",
       "      <td>86964380</td>\n",
       "      <td>2018</td>\n",
       "      <td>2018-01-29 08:31</td>\n",
       "      <td>11.0</td>\n",
       "      <td>1</td>\n",
       "      <td>2</td>\n",
       "      <td>30.432184</td>\n",
       "      <td>-84.293783</td>\n",
       "      <td>PINELLAS ST</td>\n",
       "      <td>NaN</td>\n",
       "      <td>EUGENIA ST</td>\n",
       "    </tr>\n",
       "    <tr>\n",
       "      <th>1395</th>\n",
       "      <td>86964519</td>\n",
       "      <td>2018</td>\n",
       "      <td>2018-02-03 16:22</td>\n",
       "      <td>11.0</td>\n",
       "      <td>1</td>\n",
       "      <td>4</td>\n",
       "      <td>30.462420</td>\n",
       "      <td>-84.291845</td>\n",
       "      <td>Gibbs Dr</td>\n",
       "      <td>NaN</td>\n",
       "      <td>MONTICELLO DR</td>\n",
       "    </tr>\n",
       "    <tr>\n",
       "      <th>1671</th>\n",
       "      <td>86964796</td>\n",
       "      <td>2018</td>\n",
       "      <td>2018-02-13 09:00</td>\n",
       "      <td>11.0</td>\n",
       "      <td>1</td>\n",
       "      <td>2</td>\n",
       "      <td>30.447932</td>\n",
       "      <td>-84.310350</td>\n",
       "      <td>Chapel Dr</td>\n",
       "      <td>NaN</td>\n",
       "      <td>W CALL ST</td>\n",
       "    </tr>\n",
       "    <tr>\n",
       "      <th>1911</th>\n",
       "      <td>86965037</td>\n",
       "      <td>2018</td>\n",
       "      <td>2018-02-22 06:10</td>\n",
       "      <td>11.0</td>\n",
       "      <td>1</td>\n",
       "      <td>2</td>\n",
       "      <td>30.444585</td>\n",
       "      <td>-84.272194</td>\n",
       "      <td>N FRANKLIN BLVD</td>\n",
       "      <td>NaN</td>\n",
       "      <td>E TENNESSEE ST</td>\n",
       "    </tr>\n",
       "    <tr>\n",
       "      <th>...</th>\n",
       "      <td>...</td>\n",
       "      <td>...</td>\n",
       "      <td>...</td>\n",
       "      <td>...</td>\n",
       "      <td>...</td>\n",
       "      <td>...</td>\n",
       "      <td>...</td>\n",
       "      <td>...</td>\n",
       "      <td>...</td>\n",
       "      <td>...</td>\n",
       "      <td>...</td>\n",
       "    </tr>\n",
       "    <tr>\n",
       "      <th>37614</th>\n",
       "      <td>90115367</td>\n",
       "      <td>2021</td>\n",
       "      <td>2021-05-08 20:50</td>\n",
       "      <td>11.0</td>\n",
       "      <td>1</td>\n",
       "      <td>2</td>\n",
       "      <td>30.457587</td>\n",
       "      <td>-84.365054</td>\n",
       "      <td>W Tennessee St</td>\n",
       "      <td>NaN</td>\n",
       "      <td>NaN</td>\n",
       "    </tr>\n",
       "    <tr>\n",
       "      <th>37661</th>\n",
       "      <td>90115422</td>\n",
       "      <td>2021</td>\n",
       "      <td>2021-05-11 15:34</td>\n",
       "      <td>11.0</td>\n",
       "      <td>1</td>\n",
       "      <td>2</td>\n",
       "      <td>30.435613</td>\n",
       "      <td>-84.301625</td>\n",
       "      <td>W Gaines St</td>\n",
       "      <td>NaN</td>\n",
       "      <td>STADIUM DR E</td>\n",
       "    </tr>\n",
       "    <tr>\n",
       "      <th>37820</th>\n",
       "      <td>90115595</td>\n",
       "      <td>2021</td>\n",
       "      <td>2021-05-22 19:46</td>\n",
       "      <td>11.0</td>\n",
       "      <td>1</td>\n",
       "      <td>2</td>\n",
       "      <td>30.475012</td>\n",
       "      <td>-84.363089</td>\n",
       "      <td>Capital Circle NW</td>\n",
       "      <td>NaN</td>\n",
       "      <td>COMMONWEALTH BLVD</td>\n",
       "    </tr>\n",
       "    <tr>\n",
       "      <th>38029</th>\n",
       "      <td>90115822</td>\n",
       "      <td>2021</td>\n",
       "      <td>2021-06-04 21:00</td>\n",
       "      <td>11.0</td>\n",
       "      <td>1</td>\n",
       "      <td>3</td>\n",
       "      <td>30.431116</td>\n",
       "      <td>-84.292616</td>\n",
       "      <td>CONKLIN ST</td>\n",
       "      <td>NaN</td>\n",
       "      <td>RATTLER VIEW CT</td>\n",
       "    </tr>\n",
       "    <tr>\n",
       "      <th>38249</th>\n",
       "      <td>90116068</td>\n",
       "      <td>2021</td>\n",
       "      <td>2021-06-17 18:40</td>\n",
       "      <td>11.0</td>\n",
       "      <td>1</td>\n",
       "      <td>2</td>\n",
       "      <td>30.457719</td>\n",
       "      <td>-84.293010</td>\n",
       "      <td>LOWELL ST</td>\n",
       "      <td>NaN</td>\n",
       "      <td>W 7TH AVE</td>\n",
       "    </tr>\n",
       "  </tbody>\n",
       "</table>\n",
       "<p>131 rows × 11 columns</p>\n",
       "</div>"
      ],
      "text/plain": [
       "       report_number  crash_year   crash_date_time  first_harmful_event  \\\n",
       "309         85579687        2018  2018-01-29 18:54                 11.0   \n",
       "1256        86964380        2018  2018-01-29 08:31                 11.0   \n",
       "1395        86964519        2018  2018-02-03 16:22                 11.0   \n",
       "1671        86964796        2018  2018-02-13 09:00                 11.0   \n",
       "1911        86965037        2018  2018-02-22 06:10                 11.0   \n",
       "...              ...         ...               ...                  ...   \n",
       "37614       90115367        2021  2021-05-08 20:50                 11.0   \n",
       "37661       90115422        2021  2021-05-11 15:34                 11.0   \n",
       "37820       90115595        2021  2021-05-22 19:46                 11.0   \n",
       "38029       90115822        2021  2021-06-04 21:00                 11.0   \n",
       "38249       90116068        2021  2021-06-17 18:40                 11.0   \n",
       "\n",
       "       total_number_of_vehicles  total_number_of_persons   latitude  \\\n",
       "309                           1                        2  30.440920   \n",
       "1256                          1                        2  30.432184   \n",
       "1395                          1                        4  30.462420   \n",
       "1671                          1                        2  30.447932   \n",
       "1911                          1                        2  30.444585   \n",
       "...                         ...                      ...        ...   \n",
       "37614                         1                        2  30.457587   \n",
       "37661                         1                        2  30.435613   \n",
       "37820                         1                        2  30.475012   \n",
       "38029                         1                        3  30.431116   \n",
       "38249                         1                        2  30.457719   \n",
       "\n",
       "       longitude on_street_road_highway street_address_number  \\\n",
       "309   -84.373347             AENON LANE                   NaN   \n",
       "1256  -84.293783            PINELLAS ST                   NaN   \n",
       "1395  -84.291845               Gibbs Dr                   NaN   \n",
       "1671  -84.310350              Chapel Dr                   NaN   \n",
       "1911  -84.272194        N FRANKLIN BLVD                   NaN   \n",
       "...          ...                    ...                   ...   \n",
       "37614 -84.365054         W Tennessee St                   NaN   \n",
       "37661 -84.301625            W Gaines St                   NaN   \n",
       "37820 -84.363089      Capital Circle NW                   NaN   \n",
       "38029 -84.292616             CONKLIN ST                   NaN   \n",
       "38249 -84.293010              LOWELL ST                   NaN   \n",
       "\n",
       "      from_intersection_of  \n",
       "309       COUNTY ROAD 1581  \n",
       "1256            EUGENIA ST  \n",
       "1395         MONTICELLO DR  \n",
       "1671             W CALL ST  \n",
       "1911        E TENNESSEE ST  \n",
       "...                    ...  \n",
       "37614                  NaN  \n",
       "37661         STADIUM DR E  \n",
       "37820    COMMONWEALTH BLVD  \n",
       "38029      RATTLER VIEW CT  \n",
       "38249            W 7TH AVE  \n",
       "\n",
       "[131 rows x 11 columns]"
      ]
     },
     "execution_count": 52,
     "metadata": {},
     "output_type": "execute_result"
    }
   ],
   "source": [
    "df2018.query(\" first_harmful_event == 11.0 \")"
   ]
  },
  {
   "cell_type": "code",
   "execution_count": 56,
   "metadata": {},
   "outputs": [
    {
     "data": {
      "text/html": [
       "<div>\n",
       "<style scoped>\n",
       "    .dataframe tbody tr th:only-of-type {\n",
       "        vertical-align: middle;\n",
       "    }\n",
       "\n",
       "    .dataframe tbody tr th {\n",
       "        vertical-align: top;\n",
       "    }\n",
       "\n",
       "    .dataframe thead th {\n",
       "        text-align: right;\n",
       "    }\n",
       "</style>\n",
       "<table border=\"1\" class=\"dataframe\">\n",
       "  <thead>\n",
       "    <tr style=\"text-align: right;\">\n",
       "      <th></th>\n",
       "      <th>report_number</th>\n",
       "      <th>vehicle_number</th>\n",
       "      <th>person_number</th>\n",
       "      <th>recommend_re_exam</th>\n",
       "      <th>driver_license_state</th>\n",
       "      <th>dl_expiration_date</th>\n",
       "      <th>driver_license_type</th>\n",
       "      <th>driver_distraction_code</th>\n",
       "      <th>driver_condition_code</th>\n",
       "      <th>required_endorsements</th>\n",
       "      <th>vision_obstructed</th>\n",
       "      <th>insurance_company</th>\n",
       "      <th>city</th>\n",
       "      <th>state</th>\n",
       "      <th>zip_code</th>\n",
       "      <th>date_of_birth</th>\n",
       "      <th>sex</th>\n",
       "      <th>helmet_code</th>\n",
       "      <th>restraint_system_code</th>\n",
       "      <th>eye_protection_code</th>\n",
       "      <th>air_bag_deployment_code</th>\n",
       "      <th>ejected</th>\n",
       "      <th>suspected_alcohol_use_code</th>\n",
       "      <th>alc_tested_code</th>\n",
       "      <th>alc_test_type_code</th>\n",
       "      <th>alc_test_results</th>\n",
       "      <th>blood_alcohol_content</th>\n",
       "      <th>suspected_drug_use_code</th>\n",
       "      <th>drug_tested_code</th>\n",
       "      <th>drug_test_type_code</th>\n",
       "      <th>drug_test_results</th>\n",
       "      <th>injury_severity</th>\n",
       "      <th>ems_transport_type</th>\n",
       "      <th>ems_name</th>\n",
       "      <th>ems_run_number</th>\n",
       "      <th>injured_taken_location</th>\n",
       "      <th>seat_position_code</th>\n",
       "      <th>row_position_code</th>\n",
       "      <th>other_position_code</th>\n",
       "      <th>driver_action_1</th>\n",
       "      <th>driver_action_2</th>\n",
       "      <th>driver_action_3</th>\n",
       "      <th>driver_action_4</th>\n",
       "    </tr>\n",
       "    <tr>\n",
       "      <th>crash_year</th>\n",
       "      <th></th>\n",
       "      <th></th>\n",
       "      <th></th>\n",
       "      <th></th>\n",
       "      <th></th>\n",
       "      <th></th>\n",
       "      <th></th>\n",
       "      <th></th>\n",
       "      <th></th>\n",
       "      <th></th>\n",
       "      <th></th>\n",
       "      <th></th>\n",
       "      <th></th>\n",
       "      <th></th>\n",
       "      <th></th>\n",
       "      <th></th>\n",
       "      <th></th>\n",
       "      <th></th>\n",
       "      <th></th>\n",
       "      <th></th>\n",
       "      <th></th>\n",
       "      <th></th>\n",
       "      <th></th>\n",
       "      <th></th>\n",
       "      <th></th>\n",
       "      <th></th>\n",
       "      <th></th>\n",
       "      <th></th>\n",
       "      <th></th>\n",
       "      <th></th>\n",
       "      <th></th>\n",
       "      <th></th>\n",
       "      <th></th>\n",
       "      <th></th>\n",
       "      <th></th>\n",
       "      <th></th>\n",
       "      <th></th>\n",
       "      <th></th>\n",
       "      <th></th>\n",
       "      <th></th>\n",
       "      <th></th>\n",
       "      <th></th>\n",
       "      <th></th>\n",
       "    </tr>\n",
       "  </thead>\n",
       "  <tbody>\n",
       "    <tr>\n",
       "      <th>2018</th>\n",
       "      <td>1329812</td>\n",
       "      <td>1329812</td>\n",
       "      <td>1329812</td>\n",
       "      <td>1134582</td>\n",
       "      <td>1285358</td>\n",
       "      <td>1271135</td>\n",
       "      <td>1290593</td>\n",
       "      <td>1320563</td>\n",
       "      <td>1319423</td>\n",
       "      <td>1011907</td>\n",
       "      <td>1296655</td>\n",
       "      <td>1303474</td>\n",
       "      <td>1305706</td>\n",
       "      <td>1302528</td>\n",
       "      <td>1300361</td>\n",
       "      <td>1284898</td>\n",
       "      <td>1309237</td>\n",
       "      <td>337510</td>\n",
       "      <td>1295624</td>\n",
       "      <td>795041</td>\n",
       "      <td>1293698</td>\n",
       "      <td>1315753</td>\n",
       "      <td>1319572</td>\n",
       "      <td>504084</td>\n",
       "      <td>11254</td>\n",
       "      <td>11003</td>\n",
       "      <td>6991</td>\n",
       "      <td>1319245</td>\n",
       "      <td>498962</td>\n",
       "      <td>3894</td>\n",
       "      <td>3724</td>\n",
       "      <td>1302700</td>\n",
       "      <td>1305247</td>\n",
       "      <td>123672</td>\n",
       "      <td>75720</td>\n",
       "      <td>96159</td>\n",
       "      <td>1318754</td>\n",
       "      <td>1317533</td>\n",
       "      <td>714258</td>\n",
       "      <td>1307302</td>\n",
       "      <td>53119</td>\n",
       "      <td>16583</td>\n",
       "      <td>10773</td>\n",
       "    </tr>\n",
       "  </tbody>\n",
       "</table>\n",
       "</div>"
      ],
      "text/plain": [
       "            report_number  vehicle_number  person_number  recommend_re_exam  \\\n",
       "crash_year                                                                    \n",
       "2018              1329812         1329812        1329812            1134582   \n",
       "\n",
       "            driver_license_state  dl_expiration_date  driver_license_type  \\\n",
       "crash_year                                                                  \n",
       "2018                     1285358             1271135              1290593   \n",
       "\n",
       "            driver_distraction_code  driver_condition_code  \\\n",
       "crash_year                                                   \n",
       "2018                        1320563                1319423   \n",
       "\n",
       "            required_endorsements  vision_obstructed  insurance_company  \\\n",
       "crash_year                                                                \n",
       "2018                      1011907            1296655            1303474   \n",
       "\n",
       "               city    state  zip_code  date_of_birth      sex  helmet_code  \\\n",
       "crash_year                                                                    \n",
       "2018        1305706  1302528   1300361        1284898  1309237       337510   \n",
       "\n",
       "            restraint_system_code  eye_protection_code  \\\n",
       "crash_year                                               \n",
       "2018                      1295624               795041   \n",
       "\n",
       "            air_bag_deployment_code  ejected  suspected_alcohol_use_code  \\\n",
       "crash_year                                                                 \n",
       "2018                        1293698  1315753                     1319572   \n",
       "\n",
       "            alc_tested_code  alc_test_type_code  alc_test_results  \\\n",
       "crash_year                                                          \n",
       "2018                 504084               11254             11003   \n",
       "\n",
       "            blood_alcohol_content  suspected_drug_use_code  drug_tested_code  \\\n",
       "crash_year                                                                     \n",
       "2018                         6991                  1319245            498962   \n",
       "\n",
       "            drug_test_type_code  drug_test_results  injury_severity  \\\n",
       "crash_year                                                            \n",
       "2018                       3894               3724          1302700   \n",
       "\n",
       "            ems_transport_type  ems_name  ems_run_number  \\\n",
       "crash_year                                                 \n",
       "2018                   1305247    123672           75720   \n",
       "\n",
       "            injured_taken_location  seat_position_code  row_position_code  \\\n",
       "crash_year                                                                  \n",
       "2018                         96159             1318754            1317533   \n",
       "\n",
       "            other_position_code  driver_action_1  driver_action_2  \\\n",
       "crash_year                                                          \n",
       "2018                     714258          1307302            53119   \n",
       "\n",
       "            driver_action_3  driver_action_4  \n",
       "crash_year                                    \n",
       "2018                  16583            10773  "
      ]
     },
     "execution_count": 56,
     "metadata": {},
     "output_type": "execute_result"
    }
   ],
   "source": [
    "test_df.groupby('crash_year').count().sort_values(ascending=False, by=\"report_number\")\n",
    "#.query(\" report_number == 90115367 \")\n",
    "# pd.options.display.max_columns = 999\n",
    "\n",
    "# driver_distraction_code\n",
    "# driver_condition_code\n",
    "# address\n",
    "# city\n",
    "# zip code\n",
    "# date of birth\n",
    "# sex\n",
    "# helmet_code\n",
    "# air_bag_deployment_code\n",
    "# ejected\n",
    "# suspected_alcohol_use_code\n",
    "# suspected_drug_use_code\n",
    "# injurty_severity\n",
    "# ems_transport_type\n",
    "# driver_action_1\n",
    "\n",
    "# how many visitors/out-of-towners get into car accidents?"
   ]
  },
  {
   "cell_type": "markdown",
   "metadata": {},
   "source": [
    "# Drivers data\n",
    "report number -- there could be multiple drivers under one report number"
   ]
  },
  {
   "cell_type": "markdown",
   "metadata": {},
   "source": [
    "## Import Data"
   ]
  },
  {
   "cell_type": "code",
   "execution_count": 69,
   "metadata": {},
   "outputs": [],
   "source": [
    "import os"
   ]
  },
  {
   "cell_type": "code",
   "execution_count": 70,
   "metadata": {},
   "outputs": [],
   "source": [
    "# define path where the driver tables are stored\n",
    "path = \"../data/raw/\"\n",
    "\n",
    "# create empty list\n",
    "li = []\n",
    "\n",
    "# for loop -- loop through each file and save the data\n",
    "for filename in os.listdir(path):\n",
    "    temp_df = pd.read_csv(os.path.join(path, filename), index_col=None, header=0) \\\n",
    "    .drop(['dl_number', 'policy_number', 'first_name', 'middle_name', 'last_name', 'suffix', 'phone_number', 'address'], axis=1)\n",
    "    li.append(temp_df)\n",
    "    \n",
    "# create dataframe for the drivers table, 2018 - 2021\n",
    "driver_df = pd.concat(li, axis=0, ignore_index=True)"
   ]
  },
  {
   "cell_type": "markdown",
   "metadata": {},
   "source": [
    "## Filter Data"
   ]
  },
  {
   "cell_type": "code",
   "execution_count": 63,
   "metadata": {},
   "outputs": [],
   "source": [
    "# create list of record numbers from the events table\n",
    "id_list = list(df2018['report_number'])"
   ]
  },
  {
   "cell_type": "code",
   "execution_count": 72,
   "metadata": {},
   "outputs": [],
   "source": [
    "# remove rows from the list that don't match the ones from the events table\n",
    "driver_df = driver_df.query(\" report_number in @id_list\")"
   ]
  },
  {
   "cell_type": "markdown",
   "metadata": {},
   "source": [
    "## Clean Data"
   ]
  },
  {
   "cell_type": "code",
   "execution_count": 83,
   "metadata": {},
   "outputs": [],
   "source": [
    "# change date of birth type to date\n"
   ]
  },
  {
   "cell_type": "code",
   "execution_count": 84,
   "metadata": {},
   "outputs": [],
   "source": [
    "# create age of driver column"
   ]
  },
  {
   "cell_type": "code",
   "execution_count": 78,
   "metadata": {},
   "outputs": [],
   "source": [
    "# create determine age function\n",
    "def calculateAge(birthDate):\n",
    "    today = date.today()\n",
    "    age = today.year - birthDate.year - ((today.month, today.day) < (birthDate.month, birthDate.day))\n",
    " \n",
    "    return age"
   ]
  },
  {
   "cell_type": "code",
   "execution_count": null,
   "metadata": {},
   "outputs": [],
   "source": []
  },
  {
   "cell_type": "code",
   "execution_count": null,
   "metadata": {},
   "outputs": [],
   "source": []
  }
 ],
 "metadata": {
  "interpreter": {
   "hash": "31f2aee4e71d21fbe5cf8b01ff0e069b9275f58929596ceb00d14d90e3e16cd6"
  },
  "kernelspec": {
   "display_name": "Python 3",
   "language": "python",
   "name": "python3"
  },
  "language_info": {
   "codemirror_mode": {
    "name": "ipython",
    "version": 3
   },
   "file_extension": ".py",
   "mimetype": "text/x-python",
   "name": "python",
   "nbconvert_exporter": "python",
   "pygments_lexer": "ipython3",
   "version": "3.8.8"
  }
 },
 "nbformat": 4,
 "nbformat_minor": 2
}
