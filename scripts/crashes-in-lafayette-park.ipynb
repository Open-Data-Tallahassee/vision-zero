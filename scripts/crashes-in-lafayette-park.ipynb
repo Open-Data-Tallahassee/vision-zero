{
 "cells": [
  {
   "cell_type": "markdown",
   "id": "eec0bbd0",
   "metadata": {},
   "source": [
    "## How many car crashes occured in Lafayette Park in 2021?"
   ]
  },
  {
   "cell_type": "markdown",
   "id": "58423ff1",
   "metadata": {},
   "source": [
    "### Initialize workspace"
   ]
  },
  {
   "cell_type": "code",
   "execution_count": 3,
   "id": "c17eee97",
   "metadata": {},
   "outputs": [
    {
     "name": "stderr",
     "output_type": "stream",
     "text": [
      "/Users/shelbygreen/opt/anaconda3/envs/dev/lib/python3.8/site-packages/IPython/core/interactiveshell.py:3444: DtypeWarning: Columns (29,56,57,58,59,63) have mixed types.Specify dtype option on import or set low_memory=False.\n",
      "  exec(code_obj, self.user_global_ns, self.user_ns)\n"
     ]
    }
   ],
   "source": [
    "# import libraries\n",
    "import pandas as pd # for data manipulation\n",
    "import gspread # to connect with google sheets\n",
    "from df2gspread import df2gspread as d2g # to interact with google sheets\n",
    "import geopandas as gpd # for geospatial data manipulation\n",
    "import os # for file navigation\n",
    "from datetime import date # for age calculations"
   ]
  },
  {
   "cell_type": "markdown",
   "id": "7a4df741",
   "metadata": {},
   "source": [
    "### Import Data"
   ]
  },
  {
   "cell_type": "code",
   "execution_count": 46,
   "id": "e1a7eaf5",
   "metadata": {},
   "outputs": [
    {
     "name": "stdout",
     "output_type": "stream",
     "text": [
      "Found existing installation: Rtree 0.9.7\n",
      "Uninstalling Rtree-0.9.7:\n",
      "  Would remove:\n",
      "    /Users/shelbygreen/opt/anaconda3/envs/dev/lib/python3.8/site-packages/Rtree-0.9.7.dist-info/*\n",
      "    /Users/shelbygreen/opt/anaconda3/envs/dev/lib/python3.8/site-packages/rtree/*\n",
      "Proceed (Y/n)? ^C\n",
      "\u001b[31mERROR: Operation cancelled by user\u001b[0m\n"
     ]
    }
   ],
   "source": [
    "!pip uninstall rtree\n",
    "# sudo apt install libspatialindex-dev\n",
    "# pip install rtree"
   ]
  },
  {
   "cell_type": "code",
   "execution_count": 4,
   "id": "e8926de8",
   "metadata": {},
   "outputs": [],
   "source": [
    "# create dataframe of crashes in leon county\n",
    "df = pd.read_csv(\"../data/semiclean/leon-events.csv\")[['report_number', 'crash_year', 'crash_date_time',\n",
    "                                       'first_harmful_event', 'total_number_of_vehicles', 'total_number_of_persons',\n",
    "                                       'latitude', 'longitude', 'on_street_road_highway', 'street_address_number',\n",
    "                                       'from_intersection_of']]"
   ]
  },
  {
   "cell_type": "markdown",
   "id": "370fef54",
   "metadata": {},
   "source": [
    "### Filter Data by Year"
   ]
  },
  {
   "cell_type": "code",
   "execution_count": 5,
   "id": "3fe95c7d",
   "metadata": {},
   "outputs": [],
   "source": [
    "# select crashes that occured on 1/1/2021 or later\n",
    "df2021 = df.query(\" crash_year >= 2021\").reset_index(drop=True)"
   ]
  },
  {
   "cell_type": "markdown",
   "id": "96c44ae7",
   "metadata": {},
   "source": [
    "### QA/QC Check: How many car crashes, in 2021, are missing coordinates?"
   ]
  },
  {
   "cell_type": "code",
   "execution_count": 24,
   "id": "b3fc7075",
   "metadata": {},
   "outputs": [
    {
     "name": "stdout",
     "output_type": "stream",
     "text": [
      "There were 4216 total crashes from January to October 2021. 1.59% are missing coordinates\n"
     ]
    }
   ],
   "source": [
    "# QA/QC check -- how many total crashes\n",
    "# crashes without coordinates\n",
    "\n",
    "# remove the rows with missing lat/lon data -- these will be addressed in qa/qc\n",
    "total_crashes = len(df2021)\n",
    "missing_crashes = len(df2021[df2021['latitude'].isna() | df2021['longitude'].isna()])\n",
    "print(\"There were {} total crashes from January to October 2021. {}% are missing coordinates\".format(total_crashes, round(100*(missing_crashes/total_crashes), 2)))"
   ]
  },
  {
   "cell_type": "markdown",
   "id": "34b82926",
   "metadata": {},
   "source": [
    "Less than 5% of the data is missing. We'll remove the missing data and then continue with the analysis"
   ]
  },
  {
   "cell_type": "markdown",
   "id": "349ce7bd",
   "metadata": {},
   "source": [
    "### Filter out crashes without coordinates"
   ]
  },
  {
   "cell_type": "code",
   "execution_count": 27,
   "id": "69e51291",
   "metadata": {},
   "outputs": [],
   "source": [
    "df2021_clean = df2021[~df2021['latitude'].isna() & ~df2021['longitude'].isna()]"
   ]
  },
  {
   "cell_type": "markdown",
   "id": "844e501d",
   "metadata": {},
   "source": [
    "### Filter Data by Neighborhood"
   ]
  },
  {
   "cell_type": "code",
   "execution_count": 41,
   "id": "01c84cbf",
   "metadata": {},
   "outputs": [],
   "source": [
    "# import neighborhood boundary for lafayette park\n",
    "lafayette_boundary = gpd.read_file('/Users/shelbygreen/Repositories/personal/parcel-inventory/neighborhoods/lafayette-park.json')[['HOA_NAME', 'geometry']]"
   ]
  },
  {
   "cell_type": "code",
   "execution_count": 42,
   "id": "46332afc",
   "metadata": {},
   "outputs": [],
   "source": [
    "# convert crashes dataset to geodataframe\n",
    "gdf_2021 = gpd.GeoDataFrame(df2021_clean, geometry=gpd.points_from_xy(df2021_clean.longitude, df2021_clean.latitude))\n",
    "\n",
    "# set CRS to WGS84\n",
    "gdf_2021 = gdf_2021.set_crs(\"EPSG:4326\")\n"
   ]
  },
  {
   "cell_type": "code",
   "execution_count": 45,
   "id": "21dda7de",
   "metadata": {},
   "outputs": [
    {
     "ename": "ImportError",
     "evalue": "Spatial indexes require either `rtree` or `pygeos`. See installation instructions at https://geopandas.org/install.html",
     "output_type": "error",
     "traceback": [
      "\u001b[0;31m---------------------------------------------------------------------------\u001b[0m",
      "\u001b[0;31mImportError\u001b[0m                               Traceback (most recent call last)",
      "\u001b[0;32m/var/folders/hl/5vgjw5l925q71n0d_fv_g5rh0000gn/T/ipykernel_48970/729162139.py\u001b[0m in \u001b[0;36m<module>\u001b[0;34m\u001b[0m\n\u001b[1;32m      1\u001b[0m \u001b[0;31m# clip crashes within the bounding box (lafayette park)\u001b[0m\u001b[0;34m\u001b[0m\u001b[0;34m\u001b[0m\u001b[0;34m\u001b[0m\u001b[0m\n\u001b[0;32m----> 2\u001b[0;31m \u001b[0mtest\u001b[0m \u001b[0;34m=\u001b[0m \u001b[0mgpd\u001b[0m\u001b[0;34m.\u001b[0m\u001b[0mclip\u001b[0m\u001b[0;34m(\u001b[0m\u001b[0mgdf_2021\u001b[0m\u001b[0;34m,\u001b[0m \u001b[0mlafayette_boundary\u001b[0m\u001b[0;34m)\u001b[0m\u001b[0;34m\u001b[0m\u001b[0;34m\u001b[0m\u001b[0m\n\u001b[0m",
      "\u001b[0;32m~/opt/anaconda3/envs/dev/lib/python3.8/site-packages/geopandas/tools/clip.py\u001b[0m in \u001b[0;36mclip\u001b[0;34m(gdf, mask, keep_geom_type)\u001b[0m\n\u001b[1;32m    137\u001b[0m         \u001b[0mpoly\u001b[0m \u001b[0;34m=\u001b[0m \u001b[0mmask\u001b[0m\u001b[0;34m\u001b[0m\u001b[0;34m\u001b[0m\u001b[0m\n\u001b[1;32m    138\u001b[0m \u001b[0;34m\u001b[0m\u001b[0m\n\u001b[0;32m--> 139\u001b[0;31m     \u001b[0mclipped\u001b[0m \u001b[0;34m=\u001b[0m \u001b[0m_clip_gdf_with_polygon\u001b[0m\u001b[0;34m(\u001b[0m\u001b[0mgdf\u001b[0m\u001b[0;34m,\u001b[0m \u001b[0mpoly\u001b[0m\u001b[0;34m)\u001b[0m\u001b[0;34m\u001b[0m\u001b[0;34m\u001b[0m\u001b[0m\n\u001b[0m\u001b[1;32m    140\u001b[0m \u001b[0;34m\u001b[0m\u001b[0m\n\u001b[1;32m    141\u001b[0m     \u001b[0;32mif\u001b[0m \u001b[0mkeep_geom_type\u001b[0m\u001b[0;34m:\u001b[0m\u001b[0;34m\u001b[0m\u001b[0;34m\u001b[0m\u001b[0m\n",
      "\u001b[0;32m~/opt/anaconda3/envs/dev/lib/python3.8/site-packages/geopandas/tools/clip.py\u001b[0m in \u001b[0;36m_clip_gdf_with_polygon\u001b[0;34m(gdf, poly)\u001b[0m\n\u001b[1;32m     34\u001b[0m         \u001b[0mthat\u001b[0m \u001b[0mintersects\u001b[0m \u001b[0;32mwith\u001b[0m \u001b[0mpoly\u001b[0m\u001b[0;34m.\u001b[0m\u001b[0;34m\u001b[0m\u001b[0;34m\u001b[0m\u001b[0m\n\u001b[1;32m     35\u001b[0m     \"\"\"\n\u001b[0;32m---> 36\u001b[0;31m     \u001b[0mgdf_sub\u001b[0m \u001b[0;34m=\u001b[0m \u001b[0mgdf\u001b[0m\u001b[0;34m.\u001b[0m\u001b[0miloc\u001b[0m\u001b[0;34m[\u001b[0m\u001b[0mgdf\u001b[0m\u001b[0;34m.\u001b[0m\u001b[0msindex\u001b[0m\u001b[0;34m.\u001b[0m\u001b[0mquery\u001b[0m\u001b[0;34m(\u001b[0m\u001b[0mpoly\u001b[0m\u001b[0;34m,\u001b[0m \u001b[0mpredicate\u001b[0m\u001b[0;34m=\u001b[0m\u001b[0;34m\"intersects\"\u001b[0m\u001b[0;34m)\u001b[0m\u001b[0;34m]\u001b[0m\u001b[0;34m\u001b[0m\u001b[0;34m\u001b[0m\u001b[0m\n\u001b[0m\u001b[1;32m     37\u001b[0m \u001b[0;34m\u001b[0m\u001b[0m\n\u001b[1;32m     38\u001b[0m     \u001b[0;31m# For performance reasons points don't need to be intersected with poly\u001b[0m\u001b[0;34m\u001b[0m\u001b[0;34m\u001b[0m\u001b[0;34m\u001b[0m\u001b[0m\n",
      "\u001b[0;32m~/opt/anaconda3/envs/dev/lib/python3.8/site-packages/geopandas/base.py\u001b[0m in \u001b[0;36msindex\u001b[0;34m(self)\u001b[0m\n\u001b[1;32m   2635\u001b[0m                [2]])\n\u001b[1;32m   2636\u001b[0m         \"\"\"\n\u001b[0;32m-> 2637\u001b[0;31m         \u001b[0;32mreturn\u001b[0m \u001b[0mself\u001b[0m\u001b[0;34m.\u001b[0m\u001b[0mgeometry\u001b[0m\u001b[0;34m.\u001b[0m\u001b[0mvalues\u001b[0m\u001b[0;34m.\u001b[0m\u001b[0msindex\u001b[0m\u001b[0;34m\u001b[0m\u001b[0;34m\u001b[0m\u001b[0m\n\u001b[0m\u001b[1;32m   2638\u001b[0m \u001b[0;34m\u001b[0m\u001b[0m\n\u001b[1;32m   2639\u001b[0m     \u001b[0;34m@\u001b[0m\u001b[0mproperty\u001b[0m\u001b[0;34m\u001b[0m\u001b[0;34m\u001b[0m\u001b[0m\n",
      "\u001b[0;32m~/opt/anaconda3/envs/dev/lib/python3.8/site-packages/geopandas/array.py\u001b[0m in \u001b[0;36msindex\u001b[0;34m(self)\u001b[0m\n\u001b[1;32m    290\u001b[0m     \u001b[0;32mdef\u001b[0m \u001b[0msindex\u001b[0m\u001b[0;34m(\u001b[0m\u001b[0mself\u001b[0m\u001b[0;34m)\u001b[0m\u001b[0;34m:\u001b[0m\u001b[0;34m\u001b[0m\u001b[0;34m\u001b[0m\u001b[0m\n\u001b[1;32m    291\u001b[0m         \u001b[0;32mif\u001b[0m \u001b[0mself\u001b[0m\u001b[0;34m.\u001b[0m\u001b[0m_sindex\u001b[0m \u001b[0;32mis\u001b[0m \u001b[0;32mNone\u001b[0m\u001b[0;34m:\u001b[0m\u001b[0;34m\u001b[0m\u001b[0;34m\u001b[0m\u001b[0m\n\u001b[0;32m--> 292\u001b[0;31m             \u001b[0mself\u001b[0m\u001b[0;34m.\u001b[0m\u001b[0m_sindex\u001b[0m \u001b[0;34m=\u001b[0m \u001b[0m_get_sindex_class\u001b[0m\u001b[0;34m(\u001b[0m\u001b[0;34m)\u001b[0m\u001b[0;34m(\u001b[0m\u001b[0mself\u001b[0m\u001b[0;34m.\u001b[0m\u001b[0mdata\u001b[0m\u001b[0;34m)\u001b[0m\u001b[0;34m\u001b[0m\u001b[0;34m\u001b[0m\u001b[0m\n\u001b[0m\u001b[1;32m    293\u001b[0m         \u001b[0;32mreturn\u001b[0m \u001b[0mself\u001b[0m\u001b[0;34m.\u001b[0m\u001b[0m_sindex\u001b[0m\u001b[0;34m\u001b[0m\u001b[0;34m\u001b[0m\u001b[0m\n\u001b[1;32m    294\u001b[0m \u001b[0;34m\u001b[0m\u001b[0m\n",
      "\u001b[0;32m~/opt/anaconda3/envs/dev/lib/python3.8/site-packages/geopandas/sindex.py\u001b[0m in \u001b[0;36m_get_sindex_class\u001b[0;34m()\u001b[0m\n\u001b[1;32m     19\u001b[0m     \u001b[0;32mif\u001b[0m \u001b[0mcompat\u001b[0m\u001b[0;34m.\u001b[0m\u001b[0mHAS_RTREE\u001b[0m\u001b[0;34m:\u001b[0m\u001b[0;34m\u001b[0m\u001b[0;34m\u001b[0m\u001b[0m\n\u001b[1;32m     20\u001b[0m         \u001b[0;32mreturn\u001b[0m \u001b[0mRTreeIndex\u001b[0m\u001b[0;34m\u001b[0m\u001b[0;34m\u001b[0m\u001b[0m\n\u001b[0;32m---> 21\u001b[0;31m     raise ImportError(\n\u001b[0m\u001b[1;32m     22\u001b[0m         \u001b[0;34m\"Spatial indexes require either `rtree` or `pygeos`. \"\u001b[0m\u001b[0;34m\u001b[0m\u001b[0;34m\u001b[0m\u001b[0m\n\u001b[1;32m     23\u001b[0m         \u001b[0;34m\"See installation instructions at https://geopandas.org/install.html\"\u001b[0m\u001b[0;34m\u001b[0m\u001b[0;34m\u001b[0m\u001b[0m\n",
      "\u001b[0;31mImportError\u001b[0m: Spatial indexes require either `rtree` or `pygeos`. See installation instructions at https://geopandas.org/install.html"
     ]
    }
   ],
   "source": [
    "# clip crashes within the bounding box (lafayette park)\n",
    "test = gpd.clip(gdf_2021, lafayette_boundary)"
   ]
  },
  {
   "cell_type": "markdown",
   "id": "fd185f9a",
   "metadata": {},
   "source": [
    "#### Resources:\n",
    "- https://www.earthdatascience.org/courses/use-data-open-source-python/intro-vector-data-python/vector-data-processing/clip-vector-data-in-python-geopandas-shapely/"
   ]
  },
  {
   "cell_type": "code",
   "execution_count": null,
   "id": "e3c33d0e",
   "metadata": {},
   "outputs": [],
   "source": []
  }
 ],
 "metadata": {
  "kernelspec": {
   "display_name": "Python [conda env:dev]",
   "language": "python",
   "name": "conda-env-dev-py"
  },
  "language_info": {
   "codemirror_mode": {
    "name": "ipython",
    "version": 3
   },
   "file_extension": ".py",
   "mimetype": "text/x-python",
   "name": "python",
   "nbconvert_exporter": "python",
   "pygments_lexer": "ipython3",
   "version": "3.8.12"
  }
 },
 "nbformat": 4,
 "nbformat_minor": 5
}
